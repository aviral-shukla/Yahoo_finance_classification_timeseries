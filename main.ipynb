{
 "cells": [
  {
   "cell_type": "code",
   "execution_count": 34,
   "metadata": {},
   "outputs": [],
   "source": [
    "import pandas as pd\n",
    "import numpy as np\n",
    "import matplotlib.pyplot as plt\n",
    "import seaborn as sns"
   ]
  },
  {
   "cell_type": "code",
   "execution_count": 35,
   "metadata": {},
   "outputs": [],
   "source": [
    "df=pd.read_excel(\"Yahoo-Finance-Scrape-2021-05-14.xlsx\")"
   ]
  },
  {
   "cell_type": "code",
   "execution_count": 36,
   "metadata": {},
   "outputs": [],
   "source": [
    "df.columns\n",
    "df.columns = df.columns.str.replace(' ', '_')\n",
    "#df.head(10)"
   ]
  },
  {
   "cell_type": "code",
   "execution_count": 37,
   "metadata": {},
   "outputs": [],
   "source": [
    "#How to Calculate the Current Ratio? Typically, a company's current ratio is computed by dividing its total current assets by its total current liabilities\n",
    "#air_quality[\"london_mg_per_cubic\"] = air_quality[\"station_london\"] * 1.882\n",
    "df[\"current_ratio\"]=df['Total_current_assets']/df['Total_current_liabilities']\n"
   ]
  },
  {
   "cell_type": "code",
   "execution_count": 38,
   "metadata": {},
   "outputs": [
    {
     "data": {
      "text/html": [
       "<div>\n",
       "<style scoped>\n",
       "    .dataframe tbody tr th:only-of-type {\n",
       "        vertical-align: middle;\n",
       "    }\n",
       "\n",
       "    .dataframe tbody tr th {\n",
       "        vertical-align: top;\n",
       "    }\n",
       "\n",
       "    .dataframe thead th {\n",
       "        text-align: right;\n",
       "    }\n",
       "</style>\n",
       "<table border=\"1\" class=\"dataframe\">\n",
       "  <thead>\n",
       "    <tr style=\"text-align: right;\">\n",
       "      <th></th>\n",
       "      <th>Unnamed:_0</th>\n",
       "      <th>index</th>\n",
       "      <th>Symbol</th>\n",
       "      <th>Date</th>\n",
       "      <th>Cash_and_cash_equivalents</th>\n",
       "      <th>Other_short-term_investments</th>\n",
       "      <th>Total_cash</th>\n",
       "      <th>Net_receivables</th>\n",
       "      <th>Inventory</th>\n",
       "      <th>Other_current_assets</th>\n",
       "      <th>...</th>\n",
       "      <th>Cash_at_beginning_of_period</th>\n",
       "      <th>Cash_at_end_of_period</th>\n",
       "      <th>Operating_cash_flow</th>\n",
       "      <th>Capital_expenditure</th>\n",
       "      <th>Free_cash_flow</th>\n",
       "      <th>Stock-based_compensation</th>\n",
       "      <th>Deferred_revenues</th>\n",
       "      <th>Research_development</th>\n",
       "      <th>current_ratio</th>\n",
       "      <th>debt_to_equity_ratio</th>\n",
       "    </tr>\n",
       "  </thead>\n",
       "  <tbody>\n",
       "    <tr>\n",
       "      <th>0</th>\n",
       "      <td>0</td>\n",
       "      <td>31/3/2020</td>\n",
       "      <td>20MICRONS</td>\n",
       "      <td>31/3/2020</td>\n",
       "      <td>61057.0</td>\n",
       "      <td>14677.0</td>\n",
       "      <td>75734.0</td>\n",
       "      <td>820991.0</td>\n",
       "      <td>977218.0</td>\n",
       "      <td>25604.0</td>\n",
       "      <td>...</td>\n",
       "      <td>70774.0</td>\n",
       "      <td>56805.0</td>\n",
       "      <td>428215.0</td>\n",
       "      <td>-165946.0</td>\n",
       "      <td>262269.0</td>\n",
       "      <td>NaN</td>\n",
       "      <td>NaN</td>\n",
       "      <td>NaN</td>\n",
       "      <td>1.187858</td>\n",
       "      <td>1.363791</td>\n",
       "    </tr>\n",
       "  </tbody>\n",
       "</table>\n",
       "<p>1 rows × 71 columns</p>\n",
       "</div>"
      ],
      "text/plain": [
       "   Unnamed:_0      index     Symbol       Date  Cash_and_cash_equivalents  \\\n",
       "0           0  31/3/2020  20MICRONS  31/3/2020                    61057.0   \n",
       "\n",
       "   Other_short-term_investments  Total_cash  Net_receivables  Inventory  \\\n",
       "0                       14677.0     75734.0         820991.0   977218.0   \n",
       "\n",
       "   Other_current_assets  ...  Cash_at_beginning_of_period  \\\n",
       "0               25604.0  ...                      70774.0   \n",
       "\n",
       "   Cash_at_end_of_period  Operating_cash_flow  Capital_expenditure  \\\n",
       "0                56805.0             428215.0            -165946.0   \n",
       "\n",
       "   Free_cash_flow  Stock-based_compensation  Deferred_revenues  \\\n",
       "0        262269.0                       NaN                NaN   \n",
       "\n",
       "   Research_development  current_ratio  debt_to_equity_ratio  \n",
       "0                   NaN       1.187858              1.363791  \n",
       "\n",
       "[1 rows x 71 columns]"
      ]
     },
     "execution_count": 38,
     "metadata": {},
     "output_type": "execute_result"
    }
   ],
   "source": [
    "#The debt-to-equity (D/E) ratio is used to evaluate a company's financial leverage and is calculated by dividing a company’s total liabilities by its shareholder equity.\n",
    "df['debt_to_equity_ratio']=df['Total_liabilities']/df[\"Total_stockholders'_equity\"]\n",
    "df.head(1)"
   ]
  },
  {
   "cell_type": "code",
   "execution_count": 39,
   "metadata": {},
   "outputs": [
    {
     "data": {
      "text/html": [
       "<div>\n",
       "<style scoped>\n",
       "    .dataframe tbody tr th:only-of-type {\n",
       "        vertical-align: middle;\n",
       "    }\n",
       "\n",
       "    .dataframe tbody tr th {\n",
       "        vertical-align: top;\n",
       "    }\n",
       "\n",
       "    .dataframe thead th {\n",
       "        text-align: right;\n",
       "    }\n",
       "</style>\n",
       "<table border=\"1\" class=\"dataframe\">\n",
       "  <thead>\n",
       "    <tr style=\"text-align: right;\">\n",
       "      <th></th>\n",
       "      <th>Unnamed:_0</th>\n",
       "      <th>index</th>\n",
       "      <th>Symbol</th>\n",
       "      <th>Date</th>\n",
       "      <th>Cash_and_cash_equivalents</th>\n",
       "      <th>Other_short-term_investments</th>\n",
       "      <th>Total_cash</th>\n",
       "      <th>Net_receivables</th>\n",
       "      <th>Inventory</th>\n",
       "      <th>Other_current_assets</th>\n",
       "      <th>...</th>\n",
       "      <th>Free_cash_flow</th>\n",
       "      <th>Stock-based_compensation</th>\n",
       "      <th>Deferred_revenues</th>\n",
       "      <th>Research_development</th>\n",
       "      <th>current_ratio</th>\n",
       "      <th>debt_to_equity_ratio</th>\n",
       "      <th>net_profit_margin</th>\n",
       "      <th>assets_turnover</th>\n",
       "      <th>ROI</th>\n",
       "      <th>ROA</th>\n",
       "    </tr>\n",
       "  </thead>\n",
       "  <tbody>\n",
       "    <tr>\n",
       "      <th>0</th>\n",
       "      <td>0</td>\n",
       "      <td>31/3/2020</td>\n",
       "      <td>20MICRONS</td>\n",
       "      <td>31/3/2020</td>\n",
       "      <td>61057.0</td>\n",
       "      <td>14677.0</td>\n",
       "      <td>75734.0</td>\n",
       "      <td>820991.0</td>\n",
       "      <td>977218.0</td>\n",
       "      <td>25604.0</td>\n",
       "      <td>...</td>\n",
       "      <td>262269.0</td>\n",
       "      <td>NaN</td>\n",
       "      <td>NaN</td>\n",
       "      <td>NaN</td>\n",
       "      <td>1.187858</td>\n",
       "      <td>1.363791</td>\n",
       "      <td>0.045574</td>\n",
       "      <td>1.190054</td>\n",
       "      <td>0.128417</td>\n",
       "      <td>0.038295</td>\n",
       "    </tr>\n",
       "  </tbody>\n",
       "</table>\n",
       "<p>1 rows × 75 columns</p>\n",
       "</div>"
      ],
      "text/plain": [
       "   Unnamed:_0      index     Symbol       Date  Cash_and_cash_equivalents  \\\n",
       "0           0  31/3/2020  20MICRONS  31/3/2020                    61057.0   \n",
       "\n",
       "   Other_short-term_investments  Total_cash  Net_receivables  Inventory  \\\n",
       "0                       14677.0     75734.0         820991.0   977218.0   \n",
       "\n",
       "   Other_current_assets  ...  Free_cash_flow  Stock-based_compensation  \\\n",
       "0               25604.0  ...        262269.0                       NaN   \n",
       "\n",
       "   Deferred_revenues  Research_development  current_ratio  \\\n",
       "0                NaN                   NaN       1.187858   \n",
       "\n",
       "   debt_to_equity_ratio  net_profit_margin  assets_turnover       ROI  \\\n",
       "0              1.363791           0.045574         1.190054  0.128417   \n",
       "\n",
       "        ROA  \n",
       "0  0.038295  \n",
       "\n",
       "[1 rows x 75 columns]"
      ]
     },
     "execution_count": 39,
     "metadata": {},
     "output_type": "execute_result"
    }
   ],
   "source": [
    "\n",
    "df[\"net_profit_margin\"] = df[\"Net_income\"] / df[\"Total_revenue\"]\n",
    "df[\"assets_turnover\"] = df[\"Total_revenue\"] / df[\"Total_assets\"]\n",
    "\n",
    "df[\"ROI\"] = df['Net_income_available_to_common_shareholders'] / df[\"Total_stockholders'_equity\"]\n",
    "df[\"ROA\"] = df[\"net_profit_margin\"] / df[\"assets_turnover\"]\n",
    "df.head(1)"
   ]
  },
  {
   "cell_type": "code",
   "execution_count": 40,
   "metadata": {},
   "outputs": [
    {
     "data": {
      "text/html": [
       "<div>\n",
       "<style scoped>\n",
       "    .dataframe tbody tr th:only-of-type {\n",
       "        vertical-align: middle;\n",
       "    }\n",
       "\n",
       "    .dataframe tbody tr th {\n",
       "        vertical-align: top;\n",
       "    }\n",
       "\n",
       "    .dataframe thead th {\n",
       "        text-align: right;\n",
       "    }\n",
       "</style>\n",
       "<table border=\"1\" class=\"dataframe\">\n",
       "  <thead>\n",
       "    <tr style=\"text-align: right;\">\n",
       "      <th></th>\n",
       "      <th>Unnamed:_0</th>\n",
       "      <th>index</th>\n",
       "      <th>Symbol</th>\n",
       "      <th>Date</th>\n",
       "      <th>Cash_and_cash_equivalents</th>\n",
       "      <th>Other_short-term_investments</th>\n",
       "      <th>Total_cash</th>\n",
       "      <th>Net_receivables</th>\n",
       "      <th>Inventory</th>\n",
       "      <th>Other_current_assets</th>\n",
       "      <th>...</th>\n",
       "      <th>Stock-based_compensation</th>\n",
       "      <th>Deferred_revenues</th>\n",
       "      <th>Research_development</th>\n",
       "      <th>current_ratio</th>\n",
       "      <th>debt_to_equity_ratio</th>\n",
       "      <th>net_profit_margin</th>\n",
       "      <th>assets_turnover</th>\n",
       "      <th>ROI</th>\n",
       "      <th>ROA</th>\n",
       "      <th>inventory_turnover</th>\n",
       "    </tr>\n",
       "  </thead>\n",
       "  <tbody>\n",
       "    <tr>\n",
       "      <th>0</th>\n",
       "      <td>0</td>\n",
       "      <td>31/3/2020</td>\n",
       "      <td>20MICRONS</td>\n",
       "      <td>31/3/2020</td>\n",
       "      <td>61057.0</td>\n",
       "      <td>14677.0</td>\n",
       "      <td>75734.0</td>\n",
       "      <td>820991.0</td>\n",
       "      <td>977218.0</td>\n",
       "      <td>25604.0</td>\n",
       "      <td>...</td>\n",
       "      <td>NaN</td>\n",
       "      <td>NaN</td>\n",
       "      <td>NaN</td>\n",
       "      <td>1.187858</td>\n",
       "      <td>1.363791</td>\n",
       "      <td>0.045574</td>\n",
       "      <td>1.190054</td>\n",
       "      <td>0.128417</td>\n",
       "      <td>0.038295</td>\n",
       "      <td>3.494956</td>\n",
       "    </tr>\n",
       "  </tbody>\n",
       "</table>\n",
       "<p>1 rows × 76 columns</p>\n",
       "</div>"
      ],
      "text/plain": [
       "   Unnamed:_0      index     Symbol       Date  Cash_and_cash_equivalents  \\\n",
       "0           0  31/3/2020  20MICRONS  31/3/2020                    61057.0   \n",
       "\n",
       "   Other_short-term_investments  Total_cash  Net_receivables  Inventory  \\\n",
       "0                       14677.0     75734.0         820991.0   977218.0   \n",
       "\n",
       "   Other_current_assets  ...  Stock-based_compensation  Deferred_revenues  \\\n",
       "0               25604.0  ...                       NaN                NaN   \n",
       "\n",
       "   Research_development  current_ratio  debt_to_equity_ratio  \\\n",
       "0                   NaN       1.187858              1.363791   \n",
       "\n",
       "   net_profit_margin  assets_turnover       ROI       ROA  inventory_turnover  \n",
       "0           0.045574         1.190054  0.128417  0.038295            3.494956  \n",
       "\n",
       "[1 rows x 76 columns]"
      ]
     },
     "execution_count": 40,
     "metadata": {},
     "output_type": "execute_result"
    }
   ],
   "source": [
    "#The inventory turnover ratio formula is the cost of goods sold divided by the average inventory for the same period.\n",
    "# Inventory turnover=Net Sales/Average Inventory at Selling price\n",
    "# Average Inventory at Selling price=inventory\n",
    "# Net Sales=Cost_of_revenue\n",
    "#You can calculate the inventory turnover ratio by dividing the inventory days ratio by 365 and flipping the ratio. In this example, inventory turnover ratio = 1 / (73/365) = 5. This means the company can sell and replace its stock of goods five times a year.\n",
    "df['inventory_turnover'] = df['Cost_of_revenue'] / df['Inventory']\n",
    "df.head(1)"
   ]
  },
  {
   "cell_type": "code",
   "execution_count": 41,
   "metadata": {},
   "outputs": [
    {
     "data": {
      "text/plain": [
       "Index(['Unnamed:_0', 'index', 'Symbol', 'Date', 'Cash_and_cash_equivalents',\n",
       "       'Other_short-term_investments', 'Total_cash', 'Net_receivables',\n",
       "       'Inventory', 'Other_current_assets', 'Total_current_assets',\n",
       "       'Gross_property,_plant_and_equipment', 'Accumulated_depreciation',\n",
       "       'Net_property,_plant_and_equipment', 'Goodwill', 'Intangible_assets',\n",
       "       'Other_long-term_assets', 'Total_non-current_assets', 'Total_assets',\n",
       "       'Current_debt', 'Accounts_payable', 'Other_current_liabilities',\n",
       "       'Total_current_liabilities', 'Long-term_debt',\n",
       "       'Deferred_tax_liabilities', 'Other_long-term_liabilities',\n",
       "       'Total_non-current_liabilities', 'Total_liabilities', 'Common_stock',\n",
       "       'Retained_earnings', 'Total_stockholders'_equity',\n",
       "       'Total_liabilities_and_stockholders'_equity', 'Total_revenue',\n",
       "       'Cost_of_revenue', 'Gross_profit', 'Selling_general_and_administrative',\n",
       "       'Total_operating_expenses', 'Operating_income_or_loss',\n",
       "       'Interest_expense', 'Income_before_tax', 'Income_tax_expense',\n",
       "       'Income_from_continuing_operations', 'Net_income',\n",
       "       'Net_income_available_to_common_shareholders', 'Basic_average_shares',\n",
       "       'Diluted_average_shares', 'EBITDA', 'Net_income_-_Cash_Flow',\n",
       "       'Depreciation_&_amortisation', 'Change_in_working_capital',\n",
       "       'Inventory_-_Cash_Flow', 'Other_working_capital',\n",
       "       'Other_non-cash_items', 'Net_cash_provided_by_operating_activities',\n",
       "       'Investments_in_property,_plant_and_equipment', 'Acquisitions,_net',\n",
       "       'Purchases_of_investments', 'Sales/maturities_of_investments',\n",
       "       'Other_investing_activities', 'Net_cash_used_for_investing_activities',\n",
       "       'Net_change_in_cash', 'Cash_at_beginning_of_period',\n",
       "       'Cash_at_end_of_period', 'Operating_cash_flow', 'Capital_expenditure',\n",
       "       'Free_cash_flow', 'Stock-based_compensation', 'Deferred_revenues',\n",
       "       'Research_development', 'current_ratio', 'debt_to_equity_ratio',\n",
       "       'net_profit_margin', 'assets_turnover', 'ROI', 'ROA',\n",
       "       'inventory_turnover'],\n",
       "      dtype='object')"
      ]
     },
     "execution_count": 41,
     "metadata": {},
     "output_type": "execute_result"
    }
   ],
   "source": [
    "#To calculate your net profit margin, divide your net income by your total sales revenue. The result is your net profit margin. You can multiply this number by 100 to get a percentage.\n",
    "# Net Profit Margin = (Revenue - Cost)/ Revenue\n",
    "\n",
    "df['net_profit_margin'] = df['Net_income'] / df['Total_revenue']\n",
    "df.head(1)\n",
    "df.columns\n"
   ]
  },
  {
   "cell_type": "code",
   "execution_count": 42,
   "metadata": {},
   "outputs": [
    {
     "name": "stderr",
     "output_type": "stream",
     "text": [
      "C:\\Users\\hotav\\anaconda3\\lib\\site-packages\\pandas\\core\\frame.py:4379: SettingWithCopyWarning: \n",
      "A value is trying to be set on a copy of a slice from a DataFrame\n",
      "\n",
      "See the caveats in the documentation: https://pandas.pydata.org/pandas-docs/stable/user_guide/indexing.html#returning-a-view-versus-a-copy\n",
      "  return super().replace(\n",
      "<ipython-input-42-4629ce32c372>:9: SettingWithCopyWarning: \n",
      "A value is trying to be set on a copy of a slice from a DataFrame\n",
      "\n",
      "See the caveats in the documentation: https://pandas.pydata.org/pandas-docs/stable/user_guide/indexing.html#returning-a-view-versus-a-copy\n",
      "  df_main.dropna(inplace=True)\n"
     ]
    },
    {
     "data": {
      "text/html": [
       "<div>\n",
       "<style scoped>\n",
       "    .dataframe tbody tr th:only-of-type {\n",
       "        vertical-align: middle;\n",
       "    }\n",
       "\n",
       "    .dataframe tbody tr th {\n",
       "        vertical-align: top;\n",
       "    }\n",
       "\n",
       "    .dataframe thead th {\n",
       "        text-align: right;\n",
       "    }\n",
       "</style>\n",
       "<table border=\"1\" class=\"dataframe\">\n",
       "  <thead>\n",
       "    <tr style=\"text-align: right;\">\n",
       "      <th></th>\n",
       "      <th>Symbol</th>\n",
       "      <th>current_ratio</th>\n",
       "      <th>debt_to_equity_ratio</th>\n",
       "      <th>ROI</th>\n",
       "      <th>ROA</th>\n",
       "      <th>inventory_turnover</th>\n",
       "      <th>net_profit_margin</th>\n",
       "    </tr>\n",
       "  </thead>\n",
       "  <tbody>\n",
       "    <tr>\n",
       "      <th>0</th>\n",
       "      <td>20MICRONS</td>\n",
       "      <td>1.187858</td>\n",
       "      <td>1.363791</td>\n",
       "      <td>0.128417</td>\n",
       "      <td>0.038295</td>\n",
       "      <td>3.494956</td>\n",
       "      <td>0.045574</td>\n",
       "    </tr>\n",
       "    <tr>\n",
       "      <th>1</th>\n",
       "      <td>20MICRONS</td>\n",
       "      <td>1.157742</td>\n",
       "      <td>1.411785</td>\n",
       "      <td>0.149811</td>\n",
       "      <td>0.043511</td>\n",
       "      <td>3.524510</td>\n",
       "      <td>0.051940</td>\n",
       "    </tr>\n",
       "    <tr>\n",
       "      <th>2</th>\n",
       "      <td>20MICRONS</td>\n",
       "      <td>1.109648</td>\n",
       "      <td>1.613077</td>\n",
       "      <td>0.131300</td>\n",
       "      <td>0.038770</td>\n",
       "      <td>3.659932</td>\n",
       "      <td>0.044101</td>\n",
       "    </tr>\n",
       "    <tr>\n",
       "      <th>5</th>\n",
       "      <td>3IINFOTECH</td>\n",
       "      <td>1.600570</td>\n",
       "      <td>3.601528</td>\n",
       "      <td>0.208069</td>\n",
       "      <td>0.079720</td>\n",
       "      <td>1369.683333</td>\n",
       "      <td>0.059951</td>\n",
       "    </tr>\n",
       "    <tr>\n",
       "      <th>6</th>\n",
       "      <td>3IINFOTECH</td>\n",
       "      <td>1.485746</td>\n",
       "      <td>4.444612</td>\n",
       "      <td>0.279620</td>\n",
       "      <td>0.098478</td>\n",
       "      <td>716.797980</td>\n",
       "      <td>0.071026</td>\n",
       "    </tr>\n",
       "    <tr>\n",
       "      <th>...</th>\n",
       "      <td>...</td>\n",
       "      <td>...</td>\n",
       "      <td>...</td>\n",
       "      <td>...</td>\n",
       "      <td>...</td>\n",
       "      <td>...</td>\n",
       "      <td>...</td>\n",
       "    </tr>\n",
       "    <tr>\n",
       "      <th>397</th>\n",
       "      <td>GLENMARK</td>\n",
       "      <td>1.665424</td>\n",
       "      <td>1.281683</td>\n",
       "      <td>0.148728</td>\n",
       "      <td>0.129494</td>\n",
       "      <td>1.513079</td>\n",
       "      <td>0.091875</td>\n",
       "    </tr>\n",
       "    <tr>\n",
       "      <th>398</th>\n",
       "      <td>GLENMARK</td>\n",
       "      <td>2.125584</td>\n",
       "      <td>1.329791</td>\n",
       "      <td>0.138519</td>\n",
       "      <td>0.126028</td>\n",
       "      <td>1.531366</td>\n",
       "      <td>0.086564</td>\n",
       "    </tr>\n",
       "    <tr>\n",
       "      <th>404</th>\n",
       "      <td>GLOBUSSPR</td>\n",
       "      <td>0.951520</td>\n",
       "      <td>0.788942</td>\n",
       "      <td>0.111556</td>\n",
       "      <td>0.029296</td>\n",
       "      <td>7.380084</td>\n",
       "      <td>0.042766</td>\n",
       "    </tr>\n",
       "    <tr>\n",
       "      <th>405</th>\n",
       "      <td>GLOBUSSPR</td>\n",
       "      <td>0.870664</td>\n",
       "      <td>0.935057</td>\n",
       "      <td>0.061180</td>\n",
       "      <td>0.019260</td>\n",
       "      <td>8.570396</td>\n",
       "      <td>0.024688</td>\n",
       "    </tr>\n",
       "    <tr>\n",
       "      <th>406</th>\n",
       "      <td>GLOBUSSPR</td>\n",
       "      <td>0.576415</td>\n",
       "      <td>1.091860</td>\n",
       "      <td>0.015456</td>\n",
       "      <td>0.004838</td>\n",
       "      <td>8.778755</td>\n",
       "      <td>0.005979</td>\n",
       "    </tr>\n",
       "  </tbody>\n",
       "</table>\n",
       "<p>271 rows × 7 columns</p>\n",
       "</div>"
      ],
      "text/plain": [
       "         Symbol  current_ratio  debt_to_equity_ratio       ROI       ROA  \\\n",
       "0     20MICRONS       1.187858              1.363791  0.128417  0.038295   \n",
       "1     20MICRONS       1.157742              1.411785  0.149811  0.043511   \n",
       "2     20MICRONS       1.109648              1.613077  0.131300  0.038770   \n",
       "5    3IINFOTECH       1.600570              3.601528  0.208069  0.079720   \n",
       "6    3IINFOTECH       1.485746              4.444612  0.279620  0.098478   \n",
       "..          ...            ...                   ...       ...       ...   \n",
       "397    GLENMARK       1.665424              1.281683  0.148728  0.129494   \n",
       "398    GLENMARK       2.125584              1.329791  0.138519  0.126028   \n",
       "404   GLOBUSSPR       0.951520              0.788942  0.111556  0.029296   \n",
       "405   GLOBUSSPR       0.870664              0.935057  0.061180  0.019260   \n",
       "406   GLOBUSSPR       0.576415              1.091860  0.015456  0.004838   \n",
       "\n",
       "     inventory_turnover  net_profit_margin  \n",
       "0              3.494956           0.045574  \n",
       "1              3.524510           0.051940  \n",
       "2              3.659932           0.044101  \n",
       "5           1369.683333           0.059951  \n",
       "6            716.797980           0.071026  \n",
       "..                  ...                ...  \n",
       "397            1.513079           0.091875  \n",
       "398            1.531366           0.086564  \n",
       "404            7.380084           0.042766  \n",
       "405            8.570396           0.024688  \n",
       "406            8.778755           0.005979  \n",
       "\n",
       "[271 rows x 7 columns]"
      ]
     },
     "execution_count": 42,
     "metadata": {},
     "output_type": "execute_result"
    }
   ],
   "source": [
    "features=['Symbol','current_ratio', 'debt_to_equity_ratio', 'ROI', 'ROA','inventory_turnover','net_profit_margin']\n",
    "features\n",
    "df_main=df[features]\n",
    "    \n",
    "# Replacing infinite with nan\n",
    "df_main.replace([np.inf, -np.inf], np.nan, inplace=True)\n",
    "  \n",
    "# Dropping all the rows with nan values\n",
    "df_main.dropna(inplace=True)\n",
    "features=['current_ratio', 'debt_to_equity_ratio', 'ROI', 'ROA','inventory_turnover','net_profit_margin']\n",
    "df_main"
   ]
  },
  {
   "cell_type": "markdown",
   "metadata": {},
   "source": [
    "# 3. Perform EDA(exploratory data analysis) on features"
   ]
  },
  {
   "cell_type": "code",
   "execution_count": 29,
   "metadata": {},
   "outputs": [
    {
     "data": {
      "image/png": "[encoded data removed]",
      "text/plain": [
       "<Figure size 432x288 with 1 Axes>"
      ]
     },
     "metadata": {
      "needs_background": "light"
     },
     "output_type": "display_data"
    },
    {
     "data": {
      "image/png": "[encoded data removed]",
      "text/plain": [
       "<Figure size 432x288 with 1 Axes>"
      ]
     },
     "metadata": {
      "needs_background": "light"
     },
     "output_type": "display_data"
    },
    {
     "data": {
      "image/png": "[encoded data removed]",
      "text/plain": [
       "<Figure size 432x288 with 1 Axes>"
      ]
     },
     "metadata": {
      "needs_background": "light"
     },
     "output_type": "display_data"
    },
    {
     "data": {
      "image/png": "[encoded data removed]",
      "text/plain": [
       "<Figure size 432x288 with 1 Axes>"
      ]
     },
     "metadata": {
      "needs_background": "light"
     },
     "output_type": "display_data"
    },
    {
     "data": {
      "image/png": "[encoded data removed]",
      "text/plain": [
       "<Figure size 432x288 with 1 Axes>"
      ]
     },
     "metadata": {
      "needs_background": "light"
     },
     "output_type": "display_data"
    },
    {
     "data": {
      "image/png": "[encoded data removed]",
      "text/plain": [
       "<Figure size 432x288 with 1 Axes>"
      ]
     },
     "metadata": {
      "needs_background": "light"
     },
     "output_type": "display_data"
    }
   ],
   "source": [
    "#Univariate EDA\n",
    "for i in features:\n",
    "    sns.countplot(x=i,data=df)\n",
    "    plt.show()\n"
   ]
  },
  {
   "cell_type": "code",
   "execution_count": 30,
   "metadata": {},
   "outputs": [
    {
     "name": "stderr",
     "output_type": "stream",
     "text": [
      "C:\\Users\\hotav\\anaconda3\\lib\\site-packages\\seaborn\\distributions.py:2551: FutureWarning: `distplot` is a deprecated function and will be removed in a future version. Please adapt your code to use either `displot` (a figure-level function with similar flexibility) or `histplot` (an axes-level function for histograms).\n",
      "  warnings.warn(msg, FutureWarning)\n"
     ]
    },
    {
     "data": {
      "image/png": "[encoded data removed]",
      "text/plain": [
       "<Figure size 432x288 with 1 Axes>"
      ]
     },
     "metadata": {
      "needs_background": "light"
     },
     "output_type": "display_data"
    },
    {
     "data": {
      "image/png": "[encoded data removed]",
      "text/plain": [
       "<Figure size 432x288 with 1 Axes>"
      ]
     },
     "metadata": {
      "needs_background": "light"
     },
     "output_type": "display_data"
    },
    {
     "data": {
      "image/png": "[encoded data removed]",
      "text/plain": [
       "<Figure size 432x288 with 1 Axes>"
      ]
     },
     "metadata": {
      "needs_background": "light"
     },
     "output_type": "display_data"
    },
    {
     "data": {
      "image/png": "[encoded data removed]",
      "text/plain": [
       "<Figure size 432x288 with 1 Axes>"
      ]
     },
     "metadata": {
      "needs_background": "light"
     },
     "output_type": "display_data"
    },
    {
     "data": {
      "image/png": "[encoded data removed]",
      "text/plain": [
       "<Figure size 432x288 with 1 Axes>"
      ]
     },
     "metadata": {
      "needs_background": "light"
     },
     "output_type": "display_data"
    },
    {
     "data": {
      "image/png": "[encoded data removed]",
      "text/plain": [
       "<Figure size 432x288 with 1 Axes>"
      ]
     },
     "metadata": {
      "needs_background": "light"
     },
     "output_type": "display_data"
    }
   ],
   "source": [
    "for i in features:\n",
    "    sns.distplot(df[i],kde=False,color='r')\n",
    "    plt.show()"
   ]
  },
  {
   "cell_type": "code",
   "execution_count": null,
   "metadata": {},
   "outputs": [],
   "source": []
  },
  {
   "cell_type": "code",
   "execution_count": null,
   "metadata": {},
   "outputs": [],
   "source": [
    "#From the EDA above,it seems that school and age doesn't seem to have any patterned effect to the grade,and the other features have effect on the grade in tandem with other variables with variations of slight differences everytime\n",
    "#we will use linear regression to predict average grade"
   ]
  },
  {
   "cell_type": "code",
   "execution_count": null,
   "metadata": {},
   "outputs": [],
   "source": []
  },
  {
   "cell_type": "code",
   "execution_count": null,
   "metadata": {},
   "outputs": [],
   "source": []
  },
  {
   "cell_type": "markdown",
   "metadata": {},
   "source": [
    "# 4. Label the data using the logic given below:\n",
    "            --> A company is called in stress when its revenue to expenses ratio is less than 1."
   ]
  },
  {
   "cell_type": "code",
   "execution_count": 57,
   "metadata": {},
   "outputs": [
    {
     "name": "stderr",
     "output_type": "stream",
     "text": [
      "<ipython-input-57-5bffb8f8a3d1>:1: SettingWithCopyWarning: \n",
      "A value is trying to be set on a copy of a slice from a DataFrame.\n",
      "Try using .loc[row_indexer,col_indexer] = value instead\n",
      "\n",
      "See the caveats in the documentation: https://pandas.pydata.org/pandas-docs/stable/user_guide/indexing.html#returning-a-view-versus-a-copy\n",
      "  df_main['Total_expense']=df['Total_operating_expenses']+df['Interest_expense']+df['Income_tax_expense']\n",
      "<ipython-input-57-5bffb8f8a3d1>:2: SettingWithCopyWarning: \n",
      "A value is trying to be set on a copy of a slice from a DataFrame.\n",
      "Try using .loc[row_indexer,col_indexer] = value instead\n",
      "\n",
      "See the caveats in the documentation: https://pandas.pydata.org/pandas-docs/stable/user_guide/indexing.html#returning-a-view-versus-a-copy\n",
      "  df_main[\"revenue_to_expense_ratio\"]=df[\"Total_revenue\"]/df_main['Total_expense']\n",
      "<ipython-input-57-5bffb8f8a3d1>:5: SettingWithCopyWarning: \n",
      "A value is trying to be set on a copy of a slice from a DataFrame.\n",
      "Try using .loc[row_indexer,col_indexer] = value instead\n",
      "\n",
      "See the caveats in the documentation: https://pandas.pydata.org/pandas-docs/stable/user_guide/indexing.html#returning-a-view-versus-a-copy\n",
      "  df_main['stress'] = np.where(df_main['revenue_to_expense_ratio'] < 1 , 1,0)\n"
     ]
    },
    {
     "data": {
      "text/html": [
       "<div>\n",
       "<style scoped>\n",
       "    .dataframe tbody tr th:only-of-type {\n",
       "        vertical-align: middle;\n",
       "    }\n",
       "\n",
       "    .dataframe tbody tr th {\n",
       "        vertical-align: top;\n",
       "    }\n",
       "\n",
       "    .dataframe thead th {\n",
       "        text-align: right;\n",
       "    }\n",
       "</style>\n",
       "<table border=\"1\" class=\"dataframe\">\n",
       "  <thead>\n",
       "    <tr style=\"text-align: right;\">\n",
       "      <th></th>\n",
       "      <th>Symbol</th>\n",
       "      <th>current_ratio</th>\n",
       "      <th>debt_to_equity_ratio</th>\n",
       "      <th>ROI</th>\n",
       "      <th>ROA</th>\n",
       "      <th>inventory_turnover</th>\n",
       "      <th>net_profit_margin</th>\n",
       "      <th>Total_expense</th>\n",
       "      <th>revenue_to_expense_ratio</th>\n",
       "      <th>stress</th>\n",
       "    </tr>\n",
       "  </thead>\n",
       "  <tbody>\n",
       "    <tr>\n",
       "      <th>0</th>\n",
       "      <td>20MICRONS</td>\n",
       "      <td>1.187858</td>\n",
       "      <td>1.363791</td>\n",
       "      <td>0.128417</td>\n",
       "      <td>0.038295</td>\n",
       "      <td>3.494956</td>\n",
       "      <td>0.045574</td>\n",
       "      <td>1607528.0</td>\n",
       "      <td>3.291950</td>\n",
       "      <td>0</td>\n",
       "    </tr>\n",
       "    <tr>\n",
       "      <th>1</th>\n",
       "      <td>20MICRONS</td>\n",
       "      <td>1.157742</td>\n",
       "      <td>1.411785</td>\n",
       "      <td>0.149811</td>\n",
       "      <td>0.043511</td>\n",
       "      <td>3.524510</td>\n",
       "      <td>0.051940</td>\n",
       "      <td>1585996.0</td>\n",
       "      <td>3.022943</td>\n",
       "      <td>0</td>\n",
       "    </tr>\n",
       "    <tr>\n",
       "      <th>2</th>\n",
       "      <td>20MICRONS</td>\n",
       "      <td>1.109648</td>\n",
       "      <td>1.613077</td>\n",
       "      <td>0.131300</td>\n",
       "      <td>0.038770</td>\n",
       "      <td>3.659932</td>\n",
       "      <td>0.044101</td>\n",
       "      <td>1421281.0</td>\n",
       "      <td>3.004999</td>\n",
       "      <td>0</td>\n",
       "    </tr>\n",
       "    <tr>\n",
       "      <th>5</th>\n",
       "      <td>3IINFOTECH</td>\n",
       "      <td>1.600570</td>\n",
       "      <td>3.601528</td>\n",
       "      <td>0.208069</td>\n",
       "      <td>0.079720</td>\n",
       "      <td>1369.683333</td>\n",
       "      <td>0.059951</td>\n",
       "      <td>2513700.0</td>\n",
       "      <td>4.462545</td>\n",
       "      <td>0</td>\n",
       "    </tr>\n",
       "    <tr>\n",
       "      <th>6</th>\n",
       "      <td>3IINFOTECH</td>\n",
       "      <td>1.485746</td>\n",
       "      <td>4.444612</td>\n",
       "      <td>0.279620</td>\n",
       "      <td>0.098478</td>\n",
       "      <td>716.797980</td>\n",
       "      <td>0.071026</td>\n",
       "      <td>2220700.0</td>\n",
       "      <td>4.463412</td>\n",
       "      <td>0</td>\n",
       "    </tr>\n",
       "    <tr>\n",
       "      <th>...</th>\n",
       "      <td>...</td>\n",
       "      <td>...</td>\n",
       "      <td>...</td>\n",
       "      <td>...</td>\n",
       "      <td>...</td>\n",
       "      <td>...</td>\n",
       "      <td>...</td>\n",
       "      <td>...</td>\n",
       "      <td>...</td>\n",
       "      <td>...</td>\n",
       "    </tr>\n",
       "    <tr>\n",
       "      <th>397</th>\n",
       "      <td>GLENMARK</td>\n",
       "      <td>1.665424</td>\n",
       "      <td>1.281683</td>\n",
       "      <td>0.148728</td>\n",
       "      <td>0.129494</td>\n",
       "      <td>1.513079</td>\n",
       "      <td>0.091875</td>\n",
       "      <td>59591440.0</td>\n",
       "      <td>1.628604</td>\n",
       "      <td>0</td>\n",
       "    </tr>\n",
       "    <tr>\n",
       "      <th>398</th>\n",
       "      <td>GLENMARK</td>\n",
       "      <td>2.125584</td>\n",
       "      <td>1.329791</td>\n",
       "      <td>0.138519</td>\n",
       "      <td>0.126028</td>\n",
       "      <td>1.531366</td>\n",
       "      <td>0.086564</td>\n",
       "      <td>51487160.0</td>\n",
       "      <td>1.737051</td>\n",
       "      <td>0</td>\n",
       "    </tr>\n",
       "    <tr>\n",
       "      <th>404</th>\n",
       "      <td>GLOBUSSPR</td>\n",
       "      <td>0.951520</td>\n",
       "      <td>0.788942</td>\n",
       "      <td>0.111556</td>\n",
       "      <td>0.029296</td>\n",
       "      <td>7.380084</td>\n",
       "      <td>0.042766</td>\n",
       "      <td>3316587.0</td>\n",
       "      <td>3.518098</td>\n",
       "      <td>0</td>\n",
       "    </tr>\n",
       "    <tr>\n",
       "      <th>405</th>\n",
       "      <td>GLOBUSSPR</td>\n",
       "      <td>0.870664</td>\n",
       "      <td>0.935057</td>\n",
       "      <td>0.061180</td>\n",
       "      <td>0.019260</td>\n",
       "      <td>8.570396</td>\n",
       "      <td>0.024688</td>\n",
       "      <td>2973923.0</td>\n",
       "      <td>3.315500</td>\n",
       "      <td>0</td>\n",
       "    </tr>\n",
       "    <tr>\n",
       "      <th>406</th>\n",
       "      <td>GLOBUSSPR</td>\n",
       "      <td>0.576415</td>\n",
       "      <td>1.091860</td>\n",
       "      <td>0.015456</td>\n",
       "      <td>0.004838</td>\n",
       "      <td>8.778755</td>\n",
       "      <td>0.005979</td>\n",
       "      <td>3226456.0</td>\n",
       "      <td>2.992047</td>\n",
       "      <td>0</td>\n",
       "    </tr>\n",
       "  </tbody>\n",
       "</table>\n",
       "<p>271 rows × 10 columns</p>\n",
       "</div>"
      ],
      "text/plain": [
       "         Symbol  current_ratio  debt_to_equity_ratio       ROI       ROA  \\\n",
       "0     20MICRONS       1.187858              1.363791  0.128417  0.038295   \n",
       "1     20MICRONS       1.157742              1.411785  0.149811  0.043511   \n",
       "2     20MICRONS       1.109648              1.613077  0.131300  0.038770   \n",
       "5    3IINFOTECH       1.600570              3.601528  0.208069  0.079720   \n",
       "6    3IINFOTECH       1.485746              4.444612  0.279620  0.098478   \n",
       "..          ...            ...                   ...       ...       ...   \n",
       "397    GLENMARK       1.665424              1.281683  0.148728  0.129494   \n",
       "398    GLENMARK       2.125584              1.329791  0.138519  0.126028   \n",
       "404   GLOBUSSPR       0.951520              0.788942  0.111556  0.029296   \n",
       "405   GLOBUSSPR       0.870664              0.935057  0.061180  0.019260   \n",
       "406   GLOBUSSPR       0.576415              1.091860  0.015456  0.004838   \n",
       "\n",
       "     inventory_turnover  net_profit_margin  Total_expense  \\\n",
       "0              3.494956           0.045574      1607528.0   \n",
       "1              3.524510           0.051940      1585996.0   \n",
       "2              3.659932           0.044101      1421281.0   \n",
       "5           1369.683333           0.059951      2513700.0   \n",
       "6            716.797980           0.071026      2220700.0   \n",
       "..                  ...                ...            ...   \n",
       "397            1.513079           0.091875     59591440.0   \n",
       "398            1.531366           0.086564     51487160.0   \n",
       "404            7.380084           0.042766      3316587.0   \n",
       "405            8.570396           0.024688      2973923.0   \n",
       "406            8.778755           0.005979      3226456.0   \n",
       "\n",
       "     revenue_to_expense_ratio  stress  \n",
       "0                    3.291950       0  \n",
       "1                    3.022943       0  \n",
       "2                    3.004999       0  \n",
       "5                    4.462545       0  \n",
       "6                    4.463412       0  \n",
       "..                        ...     ...  \n",
       "397                  1.628604       0  \n",
       "398                  1.737051       0  \n",
       "404                  3.518098       0  \n",
       "405                  3.315500       0  \n",
       "406                  2.992047       0  \n",
       "\n",
       "[271 rows x 10 columns]"
      ]
     },
     "execution_count": 57,
     "metadata": {},
     "output_type": "execute_result"
    }
   ],
   "source": [
    "df_main['Total_expense']=df['Total_operating_expenses']+df['Interest_expense']+df['Income_tax_expense']\n",
    "df_main[\"revenue_to_expense_ratio\"]=df[\"Total_revenue\"]/df_main['Total_expense']\n",
    "\n",
    "#1 means in stress, 0 means not in stress\n",
    "df_main['stress'] = np.where(df_main['revenue_to_expense_ratio'] < 1 , 1,0)\n",
    "df_main"
   ]
  },
  {
   "cell_type": "code",
   "execution_count": null,
   "metadata": {},
   "outputs": [],
   "source": []
  },
  {
   "cell_type": "code",
   "execution_count": null,
   "metadata": {},
   "outputs": [],
   "source": []
  },
  {
   "cell_type": "markdown",
   "metadata": {},
   "source": [
    "# 5. Train a machine learning classifier(Logistic regression, support vector machine, naive bays, decision tree ) to predict the classes and get the correlation of coefficients (weights) with respect to the degree of stress."
   ]
  },
  {
   "cell_type": "code",
   "execution_count": 60,
   "metadata": {},
   "outputs": [
    {
     "data": {
      "text/html": [
       "<div>\n",
       "<style scoped>\n",
       "    .dataframe tbody tr th:only-of-type {\n",
       "        vertical-align: middle;\n",
       "    }\n",
       "\n",
       "    .dataframe tbody tr th {\n",
       "        vertical-align: top;\n",
       "    }\n",
       "\n",
       "    .dataframe thead th {\n",
       "        text-align: right;\n",
       "    }\n",
       "</style>\n",
       "<table border=\"1\" class=\"dataframe\">\n",
       "  <thead>\n",
       "    <tr style=\"text-align: right;\">\n",
       "      <th></th>\n",
       "      <th>current_ratio</th>\n",
       "      <th>debt_to_equity_ratio</th>\n",
       "      <th>ROI</th>\n",
       "      <th>ROA</th>\n",
       "      <th>inventory_turnover</th>\n",
       "      <th>net_profit_margin</th>\n",
       "      <th>stress</th>\n",
       "    </tr>\n",
       "  </thead>\n",
       "  <tbody>\n",
       "    <tr>\n",
       "      <th>0</th>\n",
       "      <td>1.187858</td>\n",
       "      <td>1.363791</td>\n",
       "      <td>0.128417</td>\n",
       "      <td>0.038295</td>\n",
       "      <td>3.494956</td>\n",
       "      <td>0.045574</td>\n",
       "      <td>0</td>\n",
       "    </tr>\n",
       "    <tr>\n",
       "      <th>1</th>\n",
       "      <td>1.157742</td>\n",
       "      <td>1.411785</td>\n",
       "      <td>0.149811</td>\n",
       "      <td>0.043511</td>\n",
       "      <td>3.524510</td>\n",
       "      <td>0.051940</td>\n",
       "      <td>0</td>\n",
       "    </tr>\n",
       "    <tr>\n",
       "      <th>2</th>\n",
       "      <td>1.109648</td>\n",
       "      <td>1.613077</td>\n",
       "      <td>0.131300</td>\n",
       "      <td>0.038770</td>\n",
       "      <td>3.659932</td>\n",
       "      <td>0.044101</td>\n",
       "      <td>0</td>\n",
       "    </tr>\n",
       "    <tr>\n",
       "      <th>5</th>\n",
       "      <td>1.600570</td>\n",
       "      <td>3.601528</td>\n",
       "      <td>0.208069</td>\n",
       "      <td>0.079720</td>\n",
       "      <td>1369.683333</td>\n",
       "      <td>0.059951</td>\n",
       "      <td>0</td>\n",
       "    </tr>\n",
       "    <tr>\n",
       "      <th>6</th>\n",
       "      <td>1.485746</td>\n",
       "      <td>4.444612</td>\n",
       "      <td>0.279620</td>\n",
       "      <td>0.098478</td>\n",
       "      <td>716.797980</td>\n",
       "      <td>0.071026</td>\n",
       "      <td>0</td>\n",
       "    </tr>\n",
       "    <tr>\n",
       "      <th>8</th>\n",
       "      <td>3.271062</td>\n",
       "      <td>0.354385</td>\n",
       "      <td>0.184005</td>\n",
       "      <td>0.085776</td>\n",
       "      <td>4.070901</td>\n",
       "      <td>0.107951</td>\n",
       "      <td>0</td>\n",
       "    </tr>\n",
       "    <tr>\n",
       "      <th>9</th>\n",
       "      <td>2.552964</td>\n",
       "      <td>0.478413</td>\n",
       "      <td>0.255563</td>\n",
       "      <td>0.085367</td>\n",
       "      <td>4.044703</td>\n",
       "      <td>0.121478</td>\n",
       "      <td>0</td>\n",
       "    </tr>\n",
       "    <tr>\n",
       "      <th>10</th>\n",
       "      <td>3.044518</td>\n",
       "      <td>0.389600</td>\n",
       "      <td>0.202084</td>\n",
       "      <td>0.101562</td>\n",
       "      <td>3.940081</td>\n",
       "      <td>0.121531</td>\n",
       "      <td>0</td>\n",
       "    </tr>\n",
       "    <tr>\n",
       "      <th>12</th>\n",
       "      <td>1.439812</td>\n",
       "      <td>1.416136</td>\n",
       "      <td>0.216709</td>\n",
       "      <td>0.068339</td>\n",
       "      <td>4.307943</td>\n",
       "      <td>0.078291</td>\n",
       "      <td>0</td>\n",
       "    </tr>\n",
       "    <tr>\n",
       "      <th>13</th>\n",
       "      <td>1.327093</td>\n",
       "      <td>1.691830</td>\n",
       "      <td>0.165153</td>\n",
       "      <td>0.053886</td>\n",
       "      <td>5.057576</td>\n",
       "      <td>0.057498</td>\n",
       "      <td>0</td>\n",
       "    </tr>\n",
       "  </tbody>\n",
       "</table>\n",
       "</div>"
      ],
      "text/plain": [
       "    current_ratio  debt_to_equity_ratio       ROI       ROA  \\\n",
       "0        1.187858              1.363791  0.128417  0.038295   \n",
       "1        1.157742              1.411785  0.149811  0.043511   \n",
       "2        1.109648              1.613077  0.131300  0.038770   \n",
       "5        1.600570              3.601528  0.208069  0.079720   \n",
       "6        1.485746              4.444612  0.279620  0.098478   \n",
       "8        3.271062              0.354385  0.184005  0.085776   \n",
       "9        2.552964              0.478413  0.255563  0.085367   \n",
       "10       3.044518              0.389600  0.202084  0.101562   \n",
       "12       1.439812              1.416136  0.216709  0.068339   \n",
       "13       1.327093              1.691830  0.165153  0.053886   \n",
       "\n",
       "    inventory_turnover  net_profit_margin  stress  \n",
       "0             3.494956           0.045574       0  \n",
       "1             3.524510           0.051940       0  \n",
       "2             3.659932           0.044101       0  \n",
       "5          1369.683333           0.059951       0  \n",
       "6           716.797980           0.071026       0  \n",
       "8             4.070901           0.107951       0  \n",
       "9             4.044703           0.121478       0  \n",
       "10            3.940081           0.121531       0  \n",
       "12            4.307943           0.078291       0  \n",
       "13            5.057576           0.057498       0  "
      ]
     },
     "execution_count": 60,
     "metadata": {},
     "output_type": "execute_result"
    }
   ],
   "source": [
    "df=df_main.drop(['Symbol','Total_expense','revenue_to_expense_ratio'],axis=1)\n",
    "df.head(10)"
   ]
  },
  {
   "cell_type": "code",
   "execution_count": 61,
   "metadata": {},
   "outputs": [],
   "source": [
    "x=df.drop(\"stress\",axis=1)\n",
    "y=df['stress']"
   ]
  },
  {
   "cell_type": "code",
   "execution_count": 63,
   "metadata": {},
   "outputs": [],
   "source": [
    "from sklearn.model_selection import train_test_split\n",
    "xtrain,xtest,ytrain,ytest=train_test_split(x,y,train_size=0.8)"
   ]
  },
  {
   "cell_type": "code",
   "execution_count": 64,
   "metadata": {},
   "outputs": [
    {
     "name": "stdout",
     "output_type": "stream",
     "text": [
      "(216, 6)\n",
      "(55, 6)\n"
     ]
    }
   ],
   "source": [
    "print(xtrain.shape)\n",
    "print(xtest.shape)"
   ]
  },
  {
   "cell_type": "code",
   "execution_count": 65,
   "metadata": {},
   "outputs": [
    {
     "name": "stderr",
     "output_type": "stream",
     "text": [
      "[Parallel(n_jobs=1)]: Using backend SequentialBackend with 1 concurrent workers.\n",
      "C:\\Users\\hotav\\anaconda3\\lib\\site-packages\\sklearn\\linear_model\\_logistic.py:762: ConvergenceWarning: lbfgs failed to converge (status=1):\n",
      "STOP: TOTAL NO. of ITERATIONS REACHED LIMIT.\n",
      "\n",
      "Increase the number of iterations (max_iter) or scale the data as shown in:\n",
      "    https://scikit-learn.org/stable/modules/preprocessing.html\n",
      "Please also refer to the documentation for alternative solver options:\n",
      "    https://scikit-learn.org/stable/modules/linear_model.html#logistic-regression\n",
      "  n_iter_i = _check_optimize_result(\n",
      "[Parallel(n_jobs=1)]: Done   1 out of   1 | elapsed:    1.1s finished\n"
     ]
    },
    {
     "data": {
      "text/plain": [
       "LogisticRegression(verbose=True)"
      ]
     },
     "execution_count": 65,
     "metadata": {},
     "output_type": "execute_result"
    }
   ],
   "source": [
    "from sklearn.linear_model import LogisticRegression\n",
    "model=LogisticRegression(verbose=True)\n",
    "model.fit(xtrain,ytrain)"
   ]
  },
  {
   "cell_type": "code",
   "execution_count": 92,
   "metadata": {},
   "outputs": [
    {
     "data": {
      "text/plain": [
       "array([0, 0, 0, 0, 0, 0, 0, 0, 0, 0, 0, 0, 0, 0, 1, 0, 0, 0, 0, 0, 0, 0,\n",
       "       0, 0, 0, 0, 0, 0, 0, 0, 0, 0, 0, 0, 0, 0, 0, 0, 0, 0, 0, 0, 0, 0,\n",
       "       0, 0, 0, 0, 0, 0, 0, 0, 1, 1, 0])"
      ]
     },
     "execution_count": 92,
     "metadata": {},
     "output_type": "execute_result"
    }
   ],
   "source": [
    "ypred=model.predict(xtest)\n",
    "ypred"
   ]
  },
  {
   "cell_type": "code",
   "execution_count": 93,
   "metadata": {},
   "outputs": [],
   "source": [
    "from sklearn.metrics import accuracy_score"
   ]
  },
  {
   "cell_type": "code",
   "execution_count": 95,
   "metadata": {},
   "outputs": [
    {
     "name": "stdout",
     "output_type": "stream",
     "text": [
      "0.9636363636363636\n"
     ]
    }
   ],
   "source": [
    "print(accuracy_score(ytest,ypred))\n",
    "#df.head(1)"
   ]
  },
  {
   "cell_type": "code",
   "execution_count": 79,
   "metadata": {},
   "outputs": [
    {
     "name": "stdout",
     "output_type": "stream",
     "text": [
      "               current_ratio    stress\n",
      "current_ratio       1.000000 -0.114115\n",
      "stress             -0.114115  1.000000\n",
      "                      debt_to_equity_ratio   stress\n",
      "debt_to_equity_ratio               1.00000  0.29045\n",
      "stress                             0.29045  1.00000\n",
      "             ROI    stress\n",
      "ROI     1.000000 -0.299105\n",
      "stress -0.299105  1.000000\n",
      "             ROA    stress\n",
      "ROA     1.000000  0.012493\n",
      "stress  0.012493  1.000000\n",
      "                    inventory_turnover    stress\n",
      "inventory_turnover            1.000000 -0.034131\n",
      "stress                       -0.034131  1.000000\n",
      "                   net_profit_margin    stress\n",
      "net_profit_margin           1.000000 -0.020438\n",
      "stress                     -0.020438  1.000000\n"
     ]
    }
   ],
   "source": [
    "#get the correlation of coefficients (weights) with respect to the degree of stress.\n",
    "print(df[['current_ratio','stress']].corr())\n",
    "print(df[['debt_to_equity_ratio','stress']].corr())\n",
    "print(df[['ROI','stress']].corr())\n",
    "print(df[['ROA','stress']].corr())\n",
    "print(df[['inventory_turnover','stress']].corr())\n",
    "print(df[['net_profit_margin','stress']].corr())"
   ]
  },
  {
   "cell_type": "code",
   "execution_count": null,
   "metadata": {},
   "outputs": [],
   "source": []
  },
  {
   "cell_type": "markdown",
   "metadata": {},
   "source": [
    "# 6. Use the ensemble model to predict the final degree of stress."
   ]
  },
  {
   "cell_type": "code",
   "execution_count": 81,
   "metadata": {},
   "outputs": [],
   "source": [
    "from sklearn.ensemble import GradientBoostingClassifier"
   ]
  },
  {
   "cell_type": "code",
   "execution_count": 90,
   "metadata": {},
   "outputs": [
    {
     "data": {
      "text/plain": [
       "array([0, 0, 0, 0, 0, 0, 0, 0, 0, 0, 0, 0, 0, 1, 0, 0, 0, 0, 0, 0, 0, 0,\n",
       "       0, 0, 0, 0, 0, 0, 0, 0, 0, 0, 0, 0, 0, 0, 0, 0, 0, 0, 0, 0, 0, 0,\n",
       "       0, 0, 0, 0, 0, 0, 0, 0, 0, 0, 0])"
      ]
     },
     "execution_count": 90,
     "metadata": {},
     "output_type": "execute_result"
    }
   ],
   "source": [
    "clf = GradientBoostingClassifier(n_estimators=100, learning_rate=1.0,max_depth=1, random_state=0).fit(xtrain, ytrain)\n",
    "ypred_ens=clf.predict(xtest)\n",
    "ypred_ens\n",
    "#len(ypred)\n"
   ]
  },
  {
   "cell_type": "code",
   "execution_count": 91,
   "metadata": {},
   "outputs": [
    {
     "data": {
      "text/plain": [
       "0.9272727272727272"
      ]
     },
     "execution_count": 91,
     "metadata": {},
     "output_type": "execute_result"
    }
   ],
   "source": [
    "clf.score(xtest, ytest)"
   ]
  },
  {
   "cell_type": "markdown",
   "metadata": {},
   "source": [
    "# 7.Evaluate the model on test data with evaluation matrices.\n"
   ]
  },
  {
   "cell_type": "code",
   "execution_count": 96,
   "metadata": {},
   "outputs": [
    {
     "name": "stdout",
     "output_type": "stream",
     "text": [
      "0.9636363636363636\n"
     ]
    }
   ],
   "source": [
    "#Logistic regression\n",
    "from sklearn.metrics import accuracy_score\n",
    "print(accuracy_score(ytest,ypred))"
   ]
  },
  {
   "cell_type": "code",
   "execution_count": 97,
   "metadata": {},
   "outputs": [
    {
     "data": {
      "text/plain": [
       "0.9272727272727272"
      ]
     },
     "execution_count": 97,
     "metadata": {},
     "output_type": "execute_result"
    }
   ],
   "source": [
    "clf.score(xtest, ytest)"
   ]
  },
  {
   "cell_type": "code",
   "execution_count": null,
   "metadata": {},
   "outputs": [],
   "source": []
  },
  {
   "cell_type": "code",
   "execution_count": null,
   "metadata": {},
   "outputs": [],
   "source": []
  },
  {
   "cell_type": "markdown",
   "metadata": {},
   "source": [
    "# PART B.\n",
    "Forecast Cashflow for any five companies till the next 4 data points and plot the forecasted line graph with historical data also please \n",
    "explain your forecasted result using prescriptive analytics.\n",
    "Note: For each part write a python code with comments in each section. Prepare a pdf document to justify each step with the model \n",
    "used and its configurations"
   ]
  },
  {
   "cell_type": "code",
   "execution_count": null,
   "metadata": {},
   "outputs": [],
   "source": []
  },
  {
   "cell_type": "code",
   "execution_count": null,
   "metadata": {},
   "outputs": [],
   "source": []
  },
  {
   "cell_type": "code",
   "execution_count": null,
   "metadata": {},
   "outputs": [],
   "source": []
  },
  {
   "cell_type": "code",
   "execution_count": null,
   "metadata": {},
   "outputs": [],
   "source": []
  },
  {
   "cell_type": "code",
   "execution_count": null,
   "metadata": {},
   "outputs": [],
   "source": []
  }
 ],
 "metadata": {
  "kernelspec": {
   "display_name": "Python 3",
   "language": "python",
   "name": "python3"
  },
  "language_info": {
   "codemirror_mode": {
    "name": "ipython",
    "version": 3
   },
   "file_extension": ".py",
   "mimetype": "text/x-python",
   "name": "python",
   "nbconvert_exporter": "python",
   "pygments_lexer": "ipython3",
   "version": "3.8.5"
  }
 },
 "nbformat": 4,
 "nbformat_minor": 4
}
